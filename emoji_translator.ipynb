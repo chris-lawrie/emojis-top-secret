{
 "cells": [
  {
   "cell_type": "code",
   "execution_count": 67,
   "id": "a47d3d18",
   "metadata": {},
   "outputs": [
    {
     "name": "stdout",
     "output_type": "stream",
     "text": [
      "🆖🍽💥🎟🅱🧐🏢✡🧔🐥🔤🔄⚽🔣,🅾🥇😽😇🍠🦄.🅱🎟💰🅰🤥💥💂🅾🌡🗾🥑🤦🅰🤩🚸🏚🅿🚉✈☔🏖?🅱🥧🅿🐑👼😲🅱👍📑🚤😽🦄🆖🅾🗽📑🅿😇😂💀🔑🅾🛑🌾🌑🅿🏒🚜🎮🦂💀🙀📏🅱🆖🈯☔🏜!\n",
      "['good afternoon, simon. do you have the time? i was hoping to make the cricket game!']\n"
     ]
    }
   ],
   "source": [
    "import random\n",
    "import pandas as pd\n",
    "import numpy as np\n",
    "\n",
    "df = pd.read_csv(\"emojis.csv\")\n",
    "df.columns = [\"Emoji\", \"Text\"]\n",
    "\n",
    "firsts = []\n",
    "seconds = []\n",
    "\n",
    "for idx, row in df.iterrows():\n",
    "    firsts.append(row.Text[0].lower())\n",
    "    seconds.append(row.Text[1].lower())\n",
    "    \n",
    "df[\"Second\"] = seconds\n",
    "\n",
    "text = \"Good afternoon, SIMON. Do you have the time? I was hoping to make the cricket game!\"\n",
    "text=text.lower()\n",
    "code = \"\"\n",
    "\n",
    "for i, char in enumerate(text):\n",
    "    if char == \",\":\n",
    "        code += \",\"\n",
    "        continue\n",
    "    df_sub = df[df.Second == char]\n",
    "    num = random.randint(0, df_sub.shape[0] -1)\n",
    "    df_sub.reset_index(inplace=True)\n",
    "    code += df_sub.Emoji[num]\n",
    "\n",
    "print(code)\n",
    "\n",
    "text = \"\"\n",
    "\n",
    "for char in code:\n",
    "    if char == \" \":\n",
    "        text += \" \"\n",
    "        continue\n",
    "    \n",
    "    if char == \",\":\n",
    "        text += \",\"\n",
    "        continue \n",
    "        \n",
    "    c = df.Second[df.Emoji == char].values\n",
    "    try:\n",
    "        text += c\n",
    "    except ValueError: \n",
    "        buggies.append(char)\n",
    "print(text)"
   ]
  },
  {
   "cell_type": "code",
   "execution_count": null,
   "id": "1ff6a581",
   "metadata": {},
   "outputs": [],
   "source": []
  }
 ],
 "metadata": {
  "kernelspec": {
   "display_name": "Python 3",
   "language": "python",
   "name": "python3"
  },
  "language_info": {
   "codemirror_mode": {
    "name": "ipython",
    "version": 3
   },
   "file_extension": ".py",
   "mimetype": "text/x-python",
   "name": "python",
   "nbconvert_exporter": "python",
   "pygments_lexer": "ipython3",
   "version": "3.8.8"
  }
 },
 "nbformat": 4,
 "nbformat_minor": 5
}
